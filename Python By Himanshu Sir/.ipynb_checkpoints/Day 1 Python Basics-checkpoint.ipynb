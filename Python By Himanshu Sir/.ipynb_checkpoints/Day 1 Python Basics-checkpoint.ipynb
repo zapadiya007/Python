{
 "cells": [
  {
   "cell_type": "markdown",
   "id": "2325d189",
   "metadata": {},
   "source": [
    "# Introduction and Basics\n",
    "Installation\n",
    "\n",
    "Python Org, Python 3\n",
    "\n",
    "Variables\n",
    "\n",
    "Print function\n",
    "\n",
    "Input from user\n",
    "\n",
    "Data Types\n",
    "\n",
    "Type Conversion\n",
    "\n",
    "First Program\n"
   ]
  },
  {
   "cell_type": "markdown",
   "id": "54fa08b8",
   "metadata": {},
   "source": [
    "## Variable "
   ]
  },
  {
   "cell_type": "code",
   "execution_count": 1,
   "id": "4d4b574d",
   "metadata": {},
   "outputs": [],
   "source": [
    "num=10\n",
    "char='a'\n",
    "c=10.98"
   ]
  },
  {
   "cell_type": "markdown",
   "id": "9cbf63ed",
   "metadata": {},
   "source": [
    "## Print function"
   ]
  },
  {
   "cell_type": "code",
   "execution_count": 2,
   "id": "bdea68f5",
   "metadata": {},
   "outputs": [
    {
     "name": "stdout",
     "output_type": "stream",
     "text": [
      "Hello Ashish\n"
     ]
    }
   ],
   "source": [
    "print(\"Hello Ashish\")"
   ]
  },
  {
   "cell_type": "code",
   "execution_count": 3,
   "id": "903a7088",
   "metadata": {},
   "outputs": [
    {
     "name": "stdout",
     "output_type": "stream",
     "text": [
      "Hello\n",
      "Ashish\n"
     ]
    }
   ],
   "source": [
    "print(\"Hello\")\n",
    "print(\"Ashish\")"
   ]
  },
  {
   "cell_type": "markdown",
   "id": "688af699",
   "metadata": {},
   "source": [
    "### \\n --> new line character\n",
    "### \\t --> Horizontal tab - space of 8 character\n",
    "### python follow top dow approach"
   ]
  },
  {
   "cell_type": "code",
   "execution_count": 4,
   "id": "0a414258",
   "metadata": {},
   "outputs": [
    {
     "name": "stdout",
     "output_type": "stream",
     "text": [
      "Hello \n",
      "Ashish\n"
     ]
    }
   ],
   "source": [
    "print(\"Hello \\nAshish\")"
   ]
  },
  {
   "cell_type": "code",
   "execution_count": 5,
   "id": "6b5cea18",
   "metadata": {},
   "outputs": [
    {
     "name": "stdout",
     "output_type": "stream",
     "text": [
      "Ashish \n",
      "\n",
      "\n",
      "Zapadiya\n"
     ]
    }
   ],
   "source": [
    "print(\"Ashish \\n\\n\\nZapadiya\")"
   ]
  },
  {
   "cell_type": "code",
   "execution_count": 6,
   "id": "eb17828b",
   "metadata": {},
   "outputs": [
    {
     "name": "stdout",
     "output_type": "stream",
     "text": [
      "Ashish\tZapadiya\n"
     ]
    }
   ],
   "source": [
    "print(\"Ashish\\tZapadiya\")"
   ]
  },
  {
   "cell_type": "markdown",
   "id": "1a187a82",
   "metadata": {},
   "source": [
    "## Basic print Question"
   ]
  },
  {
   "cell_type": "code",
   "execution_count": null,
   "id": "5685a853",
   "metadata": {},
   "outputs": [],
   "source": [
    "*\n",
    "**\n",
    "***"
   ]
  },
  {
   "cell_type": "code",
   "execution_count": 7,
   "id": "e9101307",
   "metadata": {},
   "outputs": [
    {
     "name": "stdout",
     "output_type": "stream",
     "text": [
      "*\n",
      "**\n",
      "***\n"
     ]
    }
   ],
   "source": [
    "print(\"*\\n**\\n***\")"
   ]
  },
  {
   "cell_type": "code",
   "execution_count": null,
   "id": "b2ef105a",
   "metadata": {},
   "outputs": [],
   "source": [
    "Name\n",
    "   8    College\n",
    "      16        City"
   ]
  },
  {
   "cell_type": "code",
   "execution_count": 8,
   "id": "96b49731",
   "metadata": {},
   "outputs": [
    {
     "name": "stdout",
     "output_type": "stream",
     "text": [
      "Ashish\n",
      "\tGEC-Rajkot\n",
      "\t\tRajkot\n"
     ]
    }
   ],
   "source": [
    "print(\"Ashish\\n\\tGEC-Rajkot\\n\\t\\tRajkot\")"
   ]
  },
  {
   "cell_type": "code",
   "execution_count": null,
   "id": "35b36e17",
   "metadata": {},
   "outputs": [],
   "source": [
    "    *\n",
    "*        *\n",
    "    *"
   ]
  },
  {
   "cell_type": "code",
   "execution_count": 9,
   "id": "0431f505",
   "metadata": {},
   "outputs": [
    {
     "name": "stdout",
     "output_type": "stream",
     "text": [
      "    *\n",
      "*\t*\n",
      "    *\n"
     ]
    }
   ],
   "source": [
    "print(\"    *\\n*\\t*\\n    *\")"
   ]
  },
  {
   "cell_type": "code",
   "execution_count": 10,
   "id": "52c6895c",
   "metadata": {},
   "outputs": [
    {
     "name": "stdout",
     "output_type": "stream",
     "text": [
      "\n",
      "    *\n",
      "*       *\n",
      "    *\n",
      "\n"
     ]
    }
   ],
   "source": [
    "print('''\n",
    "    *\n",
    "*       *\n",
    "    *\n",
    "''')"
   ]
  },
  {
   "cell_type": "markdown",
   "id": "b9d97510",
   "metadata": {},
   "source": [
    "## Data Types\n",
    "### Python supports dynamic dataypes "
   ]
  },
  {
   "cell_type": "code",
   "execution_count": 11,
   "id": "1019914d",
   "metadata": {},
   "outputs": [
    {
     "name": "stdout",
     "output_type": "stream",
     "text": [
      "10\n"
     ]
    }
   ],
   "source": [
    "a = 10\n",
    "print(a)\n"
   ]
  },
  {
   "cell_type": "code",
   "execution_count": 12,
   "id": "37b73f8a",
   "metadata": {},
   "outputs": [
    {
     "name": "stdout",
     "output_type": "stream",
     "text": [
      "10.4\n"
     ]
    }
   ],
   "source": [
    "b = 10.40\n",
    "print(b)"
   ]
  },
  {
   "cell_type": "code",
   "execution_count": 13,
   "id": "6ffc05c4",
   "metadata": {},
   "outputs": [
    {
     "name": "stdout",
     "output_type": "stream",
     "text": [
      "Ashish\n"
     ]
    }
   ],
   "source": [
    "c = \"Ashish\"\n",
    "print(c)"
   ]
  },
  {
   "cell_type": "code",
   "execution_count": null,
   "id": "6342ffbd",
   "metadata": {},
   "outputs": [],
   "source": [
    "type()\n"
   ]
  },
  {
   "cell_type": "code",
   "execution_count": 14,
   "id": "a98be083",
   "metadata": {},
   "outputs": [
    {
     "name": "stdout",
     "output_type": "stream",
     "text": [
      "<class 'int'>\n",
      "<class 'float'>\n",
      "<class 'str'>\n"
     ]
    }
   ],
   "source": [
    "a = 10 \n",
    "b = 10.402\n",
    "c = \"Ashish Zapadiya\"\n",
    "\n",
    "print(type(a))\n",
    "print(type(b))\n",
    "print(type(c))"
   ]
  },
  {
   "cell_type": "markdown",
   "id": "03372be2",
   "metadata": {},
   "source": [
    "## User input "
   ]
  },
  {
   "cell_type": "code",
   "execution_count": 15,
   "id": "d83db14a",
   "metadata": {},
   "outputs": [
    {
     "name": "stdout",
     "output_type": "stream",
     "text": [
      "23\n",
      "23\n"
     ]
    }
   ],
   "source": [
    "a = input()\n",
    "\n",
    "print(a)"
   ]
  },
  {
   "cell_type": "code",
   "execution_count": 16,
   "id": "85924015",
   "metadata": {},
   "outputs": [
    {
     "name": "stdout",
     "output_type": "stream",
     "text": [
      "Enter your age : 22\n",
      "22\n"
     ]
    }
   ],
   "source": [
    "a = input(\"Enter your age : \")\n",
    "print(a)"
   ]
  },
  {
   "cell_type": "markdown",
   "id": "cc0f567c",
   "metadata": {},
   "source": [
    "## Type Conversion / Casting"
   ]
  },
  {
   "cell_type": "code",
   "execution_count": 17,
   "id": "81ea7e3d",
   "metadata": {},
   "outputs": [
    {
     "name": "stdout",
     "output_type": "stream",
     "text": [
      "10.23745\n",
      "<class 'float'>\n",
      "10\n",
      "<class 'int'>\n",
      "10\n",
      "<class 'str'>\n",
      "10\n",
      "<class 'int'>\n"
     ]
    }
   ],
   "source": [
    "a = 10.23745\n",
    "\n",
    "print(a)\n",
    "print(type(a))\n",
    "\n",
    "b=int(a)\n",
    "\n",
    "print(b)\n",
    "print(type(b))\n",
    "\n",
    "c=str(b)\n",
    "\n",
    "print(c)\n",
    "print(type(c))\n",
    "\n",
    "d=int(c)\n",
    "\n",
    "print(d)\n",
    "print(type(d))"
   ]
  },
  {
   "cell_type": "markdown",
   "id": "18b44360",
   "metadata": {},
   "source": [
    "### WAP to enter 2 number from user and print addition of them"
   ]
  },
  {
   "cell_type": "code",
   "execution_count": 18,
   "id": "d638151c",
   "metadata": {},
   "outputs": [
    {
     "name": "stdout",
     "output_type": "stream",
     "text": [
      "Enter first Number : 3\n",
      "Enter secound Number : 4\n",
      "34\n",
      "<class 'str'>\n",
      "<class 'str'>\n"
     ]
    }
   ],
   "source": [
    "a = input(\"Enter first Number : \")\n",
    "b = input(\"Enter secound Number : \")\n",
    "\n",
    "c = a + b\n",
    "\n",
    "print(c)\n",
    "print(type(c))\n",
    "print(type(a))"
   ]
  },
  {
   "cell_type": "code",
   "execution_count": 19,
   "id": "6e3d6232",
   "metadata": {},
   "outputs": [
    {
     "data": {
      "text/plain": [
       "'1782'"
      ]
     },
     "execution_count": 19,
     "metadata": {},
     "output_type": "execute_result"
    }
   ],
   "source": [
    "# get input is a string\n",
    "\n",
    "\"17\" + \"82\""
   ]
  },
  {
   "cell_type": "code",
   "execution_count": 20,
   "id": "4135c1fc",
   "metadata": {},
   "outputs": [
    {
     "name": "stdout",
     "output_type": "stream",
     "text": [
      "<class 'str'>\n"
     ]
    }
   ],
   "source": [
    "print(type(a))"
   ]
  },
  {
   "cell_type": "code",
   "execution_count": 23,
   "id": "45233e90",
   "metadata": {},
   "outputs": [
    {
     "name": "stdout",
     "output_type": "stream",
     "text": [
      "Enter first Number : 34\n",
      "Enter secound Number : 5\n",
      "39\n"
     ]
    }
   ],
   "source": [
    "a = int(input(\"Enter first Number : \"))\n",
    "b = int(input(\"Enter secound Number : \"))\n",
    "\n",
    "c = a + b\n",
    "\n",
    "print(c)"
   ]
  },
  {
   "cell_type": "code",
   "execution_count": 24,
   "id": "71a4b9c2",
   "metadata": {},
   "outputs": [
    {
     "name": "stdout",
     "output_type": "stream",
     "text": [
      "Enter first Number : 34\n",
      "Enter secound Number : 5\n",
      "Addition of 39\n"
     ]
    }
   ],
   "source": [
    "a = int(input(\"Enter first Number : \"))\n",
    "b = int(input(\"Enter secound Number : \"))\n",
    "\n",
    "c = a + b\n",
    "\n",
    "print(\"Addition of\",c)"
   ]
  },
  {
   "cell_type": "code",
   "execution_count": 25,
   "id": "9602bf00",
   "metadata": {},
   "outputs": [
    {
     "name": "stdout",
     "output_type": "stream",
     "text": [
      "Enter first Number : 2\n",
      "Enter secound Number : 3\n",
      "Addition of 2 and 3 is 5\n"
     ]
    }
   ],
   "source": [
    "a = int(input(\"Enter first Number : \"))\n",
    "b = int(input(\"Enter secound Number : \"))\n",
    "\n",
    "c = a + b\n",
    "\n",
    "print(\"Addition of\",a,\"and\",b,\"is\",c)"
   ]
  },
  {
   "cell_type": "code",
   "execution_count": null,
   "id": "e12800af",
   "metadata": {},
   "outputs": [],
   "source": []
  },
  {
   "cell_type": "code",
   "execution_count": null,
   "id": "132c1174",
   "metadata": {},
   "outputs": [],
   "source": []
  }
 ],
 "metadata": {
  "kernelspec": {
   "display_name": "Python 3 (ipykernel)",
   "language": "python",
   "name": "python3"
  },
  "language_info": {
   "codemirror_mode": {
    "name": "ipython",
    "version": 3
   },
   "file_extension": ".py",
   "mimetype": "text/x-python",
   "name": "python",
   "nbconvert_exporter": "python",
   "pygments_lexer": "ipython3",
   "version": "3.9.12"
  }
 },
 "nbformat": 4,
 "nbformat_minor": 5
}
