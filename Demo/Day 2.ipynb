{
 "cells": [
  {
   "cell_type": "markdown",
   "id": "09601bec",
   "metadata": {},
   "source": [
    "# Arithmetic Oprator"
   ]
  },
  {
   "cell_type": "markdown",
   "id": "7c34e1ae",
   "metadata": {},
   "source": [
    "# +, -, *, /, %"
   ]
  },
  {
   "cell_type": "code",
   "execution_count": 35,
   "id": "1dbb2e6a",
   "metadata": {},
   "outputs": [
    {
     "name": "stdout",
     "output_type": "stream",
     "text": [
      "4\n"
     ]
    }
   ],
   "source": [
    "print(17//4)"
   ]
  },
  {
   "cell_type": "code",
   "execution_count": 3,
   "id": "2f23c86d",
   "metadata": {
    "scrolled": true
   },
   "outputs": [
    {
     "name": "stdout",
     "output_type": "stream",
     "text": [
      "4\n"
     ]
    }
   ],
   "source": [
    "print(17//4)"
   ]
  },
  {
   "cell_type": "code",
   "execution_count": null,
   "id": "99fe73d8",
   "metadata": {},
   "outputs": [],
   "source": []
  },
  {
   "cell_type": "code",
   "execution_count": null,
   "id": "6ad74e59",
   "metadata": {},
   "outputs": [],
   "source": []
  },
  {
   "cell_type": "code",
   "execution_count": null,
   "id": "cb258ebc",
   "metadata": {},
   "outputs": [],
   "source": []
  },
  {
   "cell_type": "markdown",
   "id": "ae69c73e",
   "metadata": {},
   "source": [
    "# Relation Operator\n"
   ]
  },
  {
   "cell_type": "markdown",
   "id": "93a0d6d4",
   "metadata": {},
   "source": [
    "## <, >, <=, >=, !=, ==    "
   ]
  },
  {
   "cell_type": "code",
   "execution_count": 36,
   "id": "44febe60",
   "metadata": {},
   "outputs": [
    {
     "name": "stdout",
     "output_type": "stream",
     "text": [
      "False\n"
     ]
    }
   ],
   "source": [
    "print(19>190)"
   ]
  },
  {
   "cell_type": "code",
   "execution_count": 37,
   "id": "7e6e6233",
   "metadata": {
    "scrolled": true
   },
   "outputs": [
    {
     "name": "stdout",
     "output_type": "stream",
     "text": [
      "False\n"
     ]
    }
   ],
   "source": [
    "print(19<=1)\n"
   ]
  },
  {
   "cell_type": "code",
   "execution_count": 38,
   "id": "37285ff8",
   "metadata": {
    "scrolled": true
   },
   "outputs": [
    {
     "name": "stdout",
     "output_type": "stream",
     "text": [
      "False\n"
     ]
    }
   ],
   "source": [
    "print(10 != 10)\n"
   ]
  },
  {
   "cell_type": "code",
   "execution_count": 40,
   "id": "368da117",
   "metadata": {},
   "outputs": [
    {
     "name": "stdout",
     "output_type": "stream",
     "text": [
      "True\n"
     ]
    }
   ],
   "source": [
    "print(19!=10)\n"
   ]
  },
  {
   "cell_type": "markdown",
   "id": "d2cbd687",
   "metadata": {},
   "source": [
    "# Boolean Operator"
   ]
  },
  {
   "cell_type": "markdown",
   "id": "29822b45",
   "metadata": {},
   "source": [
    "## True -> 1"
   ]
  },
  {
   "cell_type": "markdown",
   "id": "d36b53fe",
   "metadata": {},
   "source": [
    "## False -> 0"
   ]
  },
  {
   "cell_type": "markdown",
   "id": "43527561",
   "metadata": {},
   "source": [
    "# Logical Operator"
   ]
  },
  {
   "cell_type": "markdown",
   "id": "a0a2b149",
   "metadata": {},
   "source": [
    "## not\n",
    "## and\n",
    "## or\n",
    "\n",
    "### not > and > or"
   ]
  },
  {
   "cell_type": "code",
   "execution_count": 41,
   "id": "da7e0608",
   "metadata": {},
   "outputs": [
    {
     "name": "stdout",
     "output_type": "stream",
     "text": [
      "False\n"
     ]
    }
   ],
   "source": [
    "print(not True)"
   ]
  },
  {
   "cell_type": "code",
   "execution_count": 42,
   "id": "cf8b311f",
   "metadata": {},
   "outputs": [
    {
     "name": "stdout",
     "output_type": "stream",
     "text": [
      "True\n"
     ]
    }
   ],
   "source": [
    "print(True and True)"
   ]
  },
  {
   "cell_type": "code",
   "execution_count": 43,
   "id": "a15c13a3",
   "metadata": {},
   "outputs": [
    {
     "name": "stdout",
     "output_type": "stream",
     "text": [
      "True\n"
     ]
    }
   ],
   "source": [
    "print(True or False)"
   ]
  },
  {
   "cell_type": "code",
   "execution_count": 34,
   "id": "18137c00",
   "metadata": {},
   "outputs": [
    {
     "name": "stdout",
     "output_type": "stream",
     "text": [
      "True\n"
     ]
    }
   ],
   "source": [
    "print(True and False or True and not False or not True and False or not False)\n",
    "   "
   ]
  },
  {
   "cell_type": "markdown",
   "id": "92ce6875",
   "metadata": {},
   "source": [
    "# Assignment Operator"
   ]
  },
  {
   "cell_type": "markdown",
   "id": "51becf36",
   "metadata": {},
   "source": [
    "## ="
   ]
  },
  {
   "cell_type": "markdown",
   "id": "8dbe98ef",
   "metadata": {},
   "source": [
    "# Compound Operator"
   ]
  },
  {
   "cell_type": "markdown",
   "id": "8e3f29f6",
   "metadata": {},
   "source": [
    "## +=, -=, *=, %=, /=, //="
   ]
  },
  {
   "cell_type": "code",
   "execution_count": 22,
   "id": "da9c05c6",
   "metadata": {},
   "outputs": [
    {
     "name": "stdout",
     "output_type": "stream",
     "text": [
      "15\n"
     ]
    }
   ],
   "source": [
    "a =10\n",
    "\n",
    "a += 5\n",
    "\n",
    "print(a)"
   ]
  },
  {
   "cell_type": "code",
   "execution_count": 21,
   "id": "fc9d7c06",
   "metadata": {},
   "outputs": [
    {
     "name": "stdout",
     "output_type": "stream",
     "text": [
      "10000000000\n"
     ]
    }
   ],
   "source": [
    "a =10 \n",
    "\n",
    "a **= 10 # a = a ** 10\n",
    "\n",
    "print(a)\n"
   ]
  },
  {
   "cell_type": "markdown",
   "id": "4c1e5c1f",
   "metadata": {},
   "source": [
    "# Membership Operator "
   ]
  },
  {
   "cell_type": "markdown",
   "id": "8fa1b03d",
   "metadata": {},
   "source": [
    "## in\n",
    "## not in\n"
   ]
  },
  {
   "cell_type": "markdown",
   "id": "4cadc9f9",
   "metadata": {},
   "source": [
    "# identity operator"
   ]
  },
  {
   "cell_type": "markdown",
   "id": "c8b16009",
   "metadata": {},
   "source": [
    "## is \n",
    "## not is"
   ]
  },
  {
   "cell_type": "code",
   "execution_count": null,
   "id": "f8aa5677",
   "metadata": {},
   "outputs": [],
   "source": []
  },
  {
   "cell_type": "code",
   "execution_count": null,
   "id": "a5293a8c",
   "metadata": {},
   "outputs": [],
   "source": []
  },
  {
   "cell_type": "code",
   "execution_count": null,
   "id": "268773bc",
   "metadata": {},
   "outputs": [],
   "source": []
  }
 ],
 "metadata": {
  "kernelspec": {
   "display_name": "Python 3 (ipykernel)",
   "language": "python",
   "name": "python3"
  },
  "language_info": {
   "codemirror_mode": {
    "name": "ipython",
    "version": 3
   },
   "file_extension": ".py",
   "mimetype": "text/x-python",
   "name": "python",
   "nbconvert_exporter": "python",
   "pygments_lexer": "ipython3",
   "version": "3.9.12"
  }
 },
 "nbformat": 4,
 "nbformat_minor": 5
}
