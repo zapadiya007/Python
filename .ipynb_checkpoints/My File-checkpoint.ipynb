{
 "cells": [
  {
   "cell_type": "markdown",
   "id": "60e53617",
   "metadata": {},
   "source": [
    "# Ashish Zapadiya\n",
    "\n",
    "## Computer Engineer"
   ]
  },
  {
   "cell_type": "markdown",
   "id": "5ef8e447",
   "metadata": {},
   "source": [
    "### Student at GEC-Rajkot"
   ]
  },
  {
   "cell_type": "markdown",
   "id": "de9bf6c2",
   "metadata": {},
   "source": [
    "### Hello Everyone ...!"
   ]
  },
  {
   "cell_type": "markdown",
   "id": "54c89af4",
   "metadata": {},
   "source": [
    "#### This is a simple introduction file."
   ]
  },
  {
   "cell_type": "code",
   "execution_count": null,
   "id": "7586b16a",
   "metadata": {},
   "outputs": [],
   "source": []
  },
  {
   "cell_type": "code",
   "execution_count": null,
   "id": "0c974304",
   "metadata": {},
   "outputs": [],
   "source": []
  },
  {
   "cell_type": "code",
   "execution_count": null,
   "id": "1fe69d07",
   "metadata": {},
   "outputs": [],
   "source": []
  }
 ],
 "metadata": {
  "kernelspec": {
   "display_name": "Python 3 (ipykernel)",
   "language": "python",
   "name": "python3"
  },
  "language_info": {
   "codemirror_mode": {
    "name": "ipython",
    "version": 3
   },
   "file_extension": ".py",
   "mimetype": "text/x-python",
   "name": "python",
   "nbconvert_exporter": "python",
   "pygments_lexer": "ipython3",
   "version": "3.9.12"
  }
 },
 "nbformat": 4,
 "nbformat_minor": 5
}
