{
 "cells": [
  {
   "cell_type": "markdown",
   "id": "afd7ea2d",
   "metadata": {},
   "source": [
    "# Core Python Programming \n",
    "## By Himanshu sir\n"
   ]
  },
  {
   "cell_type": "code",
   "execution_count": 5,
   "id": "3da8d24c",
   "metadata": {},
   "outputs": [
    {
     "name": "stdout",
     "output_type": "stream",
     "text": [
      "ashish\n"
     ]
    }
   ],
   "source": [
    "print(\"ashish\")"
   ]
  },
  {
   "cell_type": "code",
   "execution_count": 6,
   "id": "50b62e6d",
   "metadata": {},
   "outputs": [
    {
     "name": "stdout",
     "output_type": "stream",
     "text": [
      "\t*\n",
      "*\t\t*\n",
      "\t*\n"
     ]
    }
   ],
   "source": [
    "print(\"\\t*\\n*\\t\\t*\\n\\t*\")"
   ]
  },
  {
   "cell_type": "markdown",
   "id": "d71811c8",
   "metadata": {},
   "source": [
    "# variable :\n",
    "\n"
   ]
  },
  {
   "cell_type": "code",
   "execution_count": 8,
   "id": "6358d8e0",
   "metadata": {},
   "outputs": [
    {
     "name": "stdout",
     "output_type": "stream",
     "text": [
      "12\n",
      "2\n",
      "14\n"
     ]
    }
   ],
   "source": [
    "a = input()\n",
    "b = input()\n",
    "\n",
    "print(int(a) + int(b) )"
   ]
  }
 ],
 "metadata": {
  "kernelspec": {
   "display_name": "Python 3 (ipykernel)",
   "language": "python",
   "name": "python3"
  },
  "language_info": {
   "codemirror_mode": {
    "name": "ipython",
    "version": 3
   },
   "file_extension": ".py",
   "mimetype": "text/x-python",
   "name": "python",
   "nbconvert_exporter": "python",
   "pygments_lexer": "ipython3",
   "version": "3.9.12"
  }
 },
 "nbformat": 4,
 "nbformat_minor": 5
}
